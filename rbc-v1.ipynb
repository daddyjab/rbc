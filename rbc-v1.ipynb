{
 "cells": [
  {
   "cell_type": "markdown",
   "metadata": {},
   "source": [
    "# Computer Simulation of Recursive Block Coding (RBC) of Speech\n",
    "* A porting of a simulation implemented in the C language with Master of Science thesis: *Computer Simulation of Recursive Block Coding of Speech\", Jeffery Allen Brown, December, 1987, Rensselaer Polytechnic Institute, Troy, New York*"
   ]
  },
  {
   "cell_type": "markdown",
   "metadata": {},
   "source": [
    "# Dependencies"
   ]
  },
  {
   "cell_type": "code",
   "execution_count": 1,
   "metadata": {},
   "outputs": [],
   "source": [
    "# Dependencies\n",
    "from pprint import pp"
   ]
  },
  {
   "cell_type": "code",
   "execution_count": 2,
   "metadata": {},
   "outputs": [],
   "source": [
    "# Logging\n",
    "import logging\n",
    "import logging.config\n",
    "import yaml\n",
    "LOGGING_CONFIG_FILE = \"./logging_config.yaml\"\n",
    "logging_config = {}\n",
    "try:\n",
    "    with open(LOGGING_CONFIG_FILE, \"rb\" ) as logging_cf:\n",
    "        logging_config = yaml.safe_load(logging_cf)\n",
    "\n",
    "except FileNotFoundError:\n",
    "    logging.warning(f\"Logging configuration file not found: '{LOGGING_CONFIG_FILE}'\")\n",
    "\n",
    "logging.config.dictConfig(logging_config)\n",
    "logger = logging.getLogger(__name__)"
   ]
  },
  {
   "cell_type": "code",
   "execution_count": 5,
   "metadata": {},
   "outputs": [
    {
     "data": {
      "text/plain": [
       "{}"
      ]
     },
     "execution_count": 5,
     "metadata": {},
     "output_type": "execute_result"
    }
   ],
   "source": [
    "# Main Configuration\n",
    "import tomllib\n",
    "CONFIG_FILE = \"./rbc_config.toml\"\n",
    "config = {}\n",
    "try:\n",
    "    with open(CONFIG_FILE, \"rb\" ) as cf:\n",
    "        config = tomllib.load(cf)\n",
    "\n",
    "except FileNotFoundError:\n",
    "    logger.warning(f\"Configuration file not found: '{CONFIG_FILE}'\")\n",
    "\n",
    "config"
   ]
  },
  {
   "cell_type": "code",
   "execution_count": null,
   "metadata": {},
   "outputs": [],
   "source": []
  }
 ],
 "metadata": {
  "kernelspec": {
   "display_name": ".venv",
   "language": "python",
   "name": "python3"
  },
  "language_info": {
   "codemirror_mode": {
    "name": "ipython",
    "version": 3
   },
   "file_extension": ".py",
   "mimetype": "text/x-python",
   "name": "python",
   "nbconvert_exporter": "python",
   "pygments_lexer": "ipython3",
   "version": "3.12.0"
  },
  "orig_nbformat": 4
 },
 "nbformat": 4,
 "nbformat_minor": 2
}
